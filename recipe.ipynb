{
 "cells": [
  {
   "cell_type": "markdown",
   "id": "06f9652b-60ab-4fb9-9ba5-56369fda92f2",
   "metadata": {},
   "source": [
    "# EXAMPLE 1"
   ]
  },
  {
   "cell_type": "markdown",
   "id": "469a41d8-f341-4c40-81ab-745857aa8ae7",
   "metadata": {},
   "source": [
    "This is an example notebook"
   ]
  },
  {
   "cell_type": "code",
   "execution_count": 3,
   "id": "fb1c095c-708a-44a2-8ba4-d2945d28f620",
   "metadata": {},
   "outputs": [],
   "source": [
    "a = 2+2"
   ]
  },
  {
   "cell_type": "code",
   "execution_count": 2,
   "id": "e0af47e9-c313-4411-8291-eec33eb2b8d9",
   "metadata": {},
   "outputs": [
    {
     "data": {
      "text/plain": [
       "5"
      ]
     },
     "execution_count": 2,
     "metadata": {},
     "output_type": "execute_result"
    }
   ],
   "source": [
    "a"
   ]
  },
  {
   "cell_type": "code",
   "execution_count": null,
   "id": "1df6dd98-057e-4dbf-97b7-483993c6a438",
   "metadata": {},
   "outputs": [],
   "source": []
  }
 ],
 "metadata": {
  "kernelspec": {
   "display_name": "Python 3 (ipykernel)",
   "language": "python",
   "name": "python3"
  },
  "language_info": {
   "codemirror_mode": {
    "name": "ipython",
    "version": 3
   },
   "file_extension": ".py",
   "mimetype": "text/x-python",
   "name": "python",
   "nbconvert_exporter": "python",
   "pygments_lexer": "ipython3",
   "version": "3.10.12"
  }
 },
 "nbformat": 4,
 "nbformat_minor": 5
}
